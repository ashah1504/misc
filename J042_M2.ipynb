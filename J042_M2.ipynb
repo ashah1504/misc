{
  "nbformat": 4,
  "nbformat_minor": 0,
  "metadata": {
    "colab": {
      "provenance": [],
      "collapsed_sections": []
    },
    "kernelspec": {
      "name": "python3",
      "display_name": "Python 3"
    },
    "language_info": {
      "name": "python"
    }
  },
  "cells": [
    {
      "cell_type": "code",
      "source": [],
      "metadata": {
        "id": "nEFvu7KM_s5J"
      },
      "execution_count": null,
      "outputs": []
    },
    {
      "cell_type": "code",
      "source": [],
      "metadata": {
        "id": "Ap1YKIZ7_s7p"
      },
      "execution_count": null,
      "outputs": []
    },
    {
      "cell_type": "code",
      "source": [],
      "metadata": {
        "id": "ypuWlsyj_s9v"
      },
      "execution_count": null,
      "outputs": []
    },
    {
      "cell_type": "code",
      "source": [],
      "metadata": {
        "id": "RK77uXIH_s_2"
      },
      "execution_count": null,
      "outputs": []
    },
    {
      "cell_type": "code",
      "source": [],
      "metadata": {
        "id": "5GaU4uoz_tEl"
      },
      "execution_count": null,
      "outputs": []
    },
    {
      "cell_type": "code",
      "source": [],
      "metadata": {
        "id": "VDTb0oPy_tG4"
      },
      "execution_count": null,
      "outputs": []
    },
    {
      "cell_type": "code",
      "source": [],
      "metadata": {
        "id": "EeVoEtvA_tJe"
      },
      "execution_count": null,
      "outputs": []
    },
    {
      "cell_type": "code",
      "source": [],
      "metadata": {
        "id": "pHVpKsVl_tLz"
      },
      "execution_count": null,
      "outputs": []
    },
    {
      "cell_type": "code",
      "source": [],
      "metadata": {
        "id": "E06BOqdh_tOb"
      },
      "execution_count": null,
      "outputs": []
    },
    {
      "cell_type": "code",
      "source": [],
      "metadata": {
        "id": "HFNkkPF1JRnw"
      },
      "execution_count": null,
      "outputs": []
    },
    {
      "cell_type": "code",
      "source": [],
      "metadata": {
        "id": "dKk_8Ft7JRqF"
      },
      "execution_count": null,
      "outputs": []
    },
    {
      "cell_type": "code",
      "source": [],
      "metadata": {
        "id": "8fj2_Sn2JRsb"
      },
      "execution_count": null,
      "outputs": []
    },
    {
      "cell_type": "code",
      "source": [],
      "metadata": {
        "id": "QP7Kmdr8JRuw"
      },
      "execution_count": null,
      "outputs": []
    },
    {
      "cell_type": "code",
      "source": [],
      "metadata": {
        "id": "0SBi6xsFJRw1"
      },
      "execution_count": null,
      "outputs": []
    },
    {
      "cell_type": "code",
      "source": [],
      "metadata": {
        "id": "l1b2X-WnJRzQ"
      },
      "execution_count": null,
      "outputs": []
    },
    {
      "cell_type": "code",
      "source": [],
      "metadata": {
        "id": "HlrZarIfJR1t"
      },
      "execution_count": null,
      "outputs": []
    },
    {
      "cell_type": "code",
      "source": [],
      "metadata": {
        "id": "lnNjTxBTJR5r"
      },
      "execution_count": null,
      "outputs": []
    },
    {
      "cell_type": "code",
      "source": [],
      "metadata": {
        "id": "RJRHuPoEJR8V"
      },
      "execution_count": null,
      "outputs": []
    },
    {
      "cell_type": "code",
      "source": [],
      "metadata": {
        "id": "wVIegF5E_tQx"
      },
      "execution_count": null,
      "outputs": []
    },
    {
      "cell_type": "code",
      "source": [],
      "metadata": {
        "id": "OIDRbVZ1_tTn"
      },
      "execution_count": null,
      "outputs": []
    },
    {
      "cell_type": "code",
      "source": [],
      "metadata": {
        "id": "8v6l5OCq_tWO"
      },
      "execution_count": null,
      "outputs": []
    },
    {
      "cell_type": "code",
      "source": [],
      "metadata": {
        "id": "HLQypi17_tY1"
      },
      "execution_count": null,
      "outputs": []
    },
    {
      "cell_type": "code",
      "source": [],
      "metadata": {
        "id": "4fj9wFGk_tbc"
      },
      "execution_count": null,
      "outputs": []
    },
    {
      "cell_type": "code",
      "source": [],
      "metadata": {
        "id": "EFAylByZ_teS"
      },
      "execution_count": null,
      "outputs": []
    },
    {
      "cell_type": "code",
      "source": [],
      "metadata": {
        "id": "FN6gbAcA_tg5"
      },
      "execution_count": null,
      "outputs": []
    },
    {
      "cell_type": "code",
      "source": [],
      "metadata": {
        "id": "5TddbMX5_tjz"
      },
      "execution_count": null,
      "outputs": []
    },
    {
      "cell_type": "code",
      "source": [],
      "metadata": {
        "id": "D8ZMzhSu_tmH"
      },
      "execution_count": null,
      "outputs": []
    },
    {
      "cell_type": "code",
      "source": [],
      "metadata": {
        "id": "nVRrCqIP_to-"
      },
      "execution_count": null,
      "outputs": []
    },
    {
      "cell_type": "code",
      "source": [],
      "metadata": {
        "id": "ngbfJkK7_uE3"
      },
      "execution_count": null,
      "outputs": []
    },
    {
      "cell_type": "code",
      "source": [],
      "metadata": {
        "id": "NfRS815h_uIA"
      },
      "execution_count": null,
      "outputs": []
    },
    {
      "cell_type": "code",
      "source": [],
      "metadata": {
        "id": "NAFydfgo_uJb"
      },
      "execution_count": null,
      "outputs": []
    },
    {
      "cell_type": "code",
      "source": [],
      "metadata": {
        "id": "F9Cs-l-A_uLo"
      },
      "execution_count": null,
      "outputs": []
    },
    {
      "cell_type": "code",
      "source": [],
      "metadata": {
        "id": "uhmL0awD_uOP"
      },
      "execution_count": null,
      "outputs": []
    },
    {
      "cell_type": "code",
      "source": [],
      "metadata": {
        "id": "HB-6i_ED7uhk"
      },
      "execution_count": null,
      "outputs": []
    },
    {
      "cell_type": "code",
      "source": [],
      "metadata": {
        "id": "bslqXsBh7unN"
      },
      "execution_count": null,
      "outputs": []
    },
    {
      "cell_type": "code",
      "source": [],
      "metadata": {
        "id": "ZuLrCyb47uqU"
      },
      "execution_count": null,
      "outputs": []
    },
    {
      "cell_type": "code",
      "source": [],
      "metadata": {
        "id": "c0etuOe_7us7"
      },
      "execution_count": null,
      "outputs": []
    },
    {
      "cell_type": "code",
      "source": [],
      "metadata": {
        "id": "JhBU9wlo7uvS"
      },
      "execution_count": null,
      "outputs": []
    },
    {
      "cell_type": "code",
      "source": [
        "def load_image(folder):\n",
        "  images = []\n",
        "  for i in os.listdir(folder):\n",
        "    img = cv2.imread(os.path.join(folder,i))\n",
        "    img = cv2.cvtColor(img, cv2.COLOR_BGR2GRAY)\n",
        "    img = cv2.resize(img, (800,600))\n",
        "    images.append(img)\n",
        "\n",
        "  return images"
      ],
      "metadata": {
        "id": "dERTb3jc7uxo"
      },
      "execution_count": null,
      "outputs": []
    },
    {
      "cell_type": "code",
      "source": [
        "def get_array2(folder):\n",
        "    arrays = np.array(load_image(folder))\n",
        "    #arrays = np.reshape(arrays, (arrays.shape[0], arrays.shape[1]*arrays.shape[2]))\n",
        "    return arrays"
      ],
      "metadata": {
        "id": "5AGVsW4P7u0O"
      },
      "execution_count": null,
      "outputs": []
    },
    {
      "cell_type": "code",
      "source": [],
      "metadata": {
        "id": "6_vYRoou7u2l"
      },
      "execution_count": null,
      "outputs": []
    },
    {
      "cell_type": "code",
      "source": [],
      "metadata": {
        "id": "oowbC_G5BDEC"
      },
      "execution_count": null,
      "outputs": []
    },
    {
      "cell_type": "code",
      "source": [],
      "metadata": {
        "id": "PVPaFz63BFNU"
      },
      "execution_count": null,
      "outputs": []
    },
    {
      "cell_type": "code",
      "source": [
        "#@title  { form-width: \"1px\", display-mode: \"form\" }\n",
        "#@title  {display-mode: \"form\"}\n",
        "\n",
        "fig = plt.figure(figsize = (20,15))\n",
        "for i in range(10):\n",
        "  ax = fig.add_subplot(4,5,i+1, xticks=[], yticks=[])\n",
        "  ax.imshow(zeros[i], cmap=plt.cm.bone)\n",
        "\n",
        "\n",
        "testx= get_array2(test_image)\n",
        "print(testx.shape)\n",
        "\n",
        "x1 = get_array2(zero) #zero = 0, False; one = 1, True\n",
        "print(x1.shape)\n",
        "x2 = get_array2(one)\n",
        "print(x2.shape)\n",
        "\n",
        "x = np.concatenate((x1,x2), axis=0)\n",
        "print(x.shape)\n",
        "\n",
        "y0 = np.zeros(10, dtype=bool)\n",
        "# print(y0)\n",
        "y1 = np.ones(10, dtype=bool)\n",
        "# print(y1)\n",
        "y = np.concatenate((y0,y1), axis=0)\n",
        "y = y.reshape((20,1))\n",
        "print(y.shape)\n",
        "\n",
        "testy = np.array([False,True, True])\n",
        "testy = testy.reshape((3,1))\n",
        "testy"
      ],
      "metadata": {
        "id": "fogVtJLyBHwk"
      },
      "execution_count": null,
      "outputs": []
    },
    {
      "cell_type": "code",
      "source": [
        "#@title  { form-width: \"1px\", display-mode: \"form\" }\n",
        "#@title  {display-mode: \"form\"}\n",
        "\n",
        "# set random seed\n",
        "tf.random.set_seed(6)\n",
        "\n",
        "# build model\n",
        "model = tf.keras.Sequential([\n",
        "    tf.keras.layers.Dense(32,activation = \"relu\"),\n",
        "    tf.keras.layers.Dense(16,activation = \"relu\"),\n",
        "    tf.keras.layers.Dense(8,activation = \"relu\"),\n",
        "    tf.keras.layers.Dense(2,activation = \"softmax\")\n",
        "])\n",
        "\n",
        "# when image - x = x.T\n",
        "print(x.shape)\n",
        "x = x.reshape((20,600*800))\n",
        "x = x.astype('float32')/255\n",
        "print(x.shape)\n",
        "\n",
        "textx = testx.reshape((3,600*800))\n",
        "textx = testx.astype('float32')/255\n",
        "\n",
        "# compile the model\n",
        "\n",
        "model.compile(loss = tf.keras.losses.SparseCategoricalCrossentropy(),\n",
        "\n",
        "              optimizer = tf.keras.optimizers.Adam(),\n",
        "\n",
        "              metrics = ['accuracy'])\n",
        "\n",
        "\n",
        "model.fit(x, y, epochs = 50)\n",
        "\n"
      ],
      "metadata": {
        "id": "Qd3ER0qpGyW0"
      },
      "execution_count": null,
      "outputs": []
    },
    {
      "cell_type": "code",
      "source": [
        "#@title  { form-width: \"1px\", display-mode: \"form\" }\n",
        "#@title  {display-mode: \"form\"}\n",
        "\n",
        "def NN(x,y,itr= 10000, print_cost = False):\n",
        "    np.random.seed(12)\n",
        "    n_x = layers(x,y)[0]\n",
        "    n_h1 = layers(x,y)[1]\n",
        "    n_y = layers(x,y)[2]\n",
        "    \n",
        "    parameters = int_parameters(n_x,n_h1,n_y)\n",
        "    \n",
        "    for i in range(0,itr):\n",
        "        catch,a2 = forward_propagation(x, parameters)\n",
        "        cost = compute_cost(a2,y)\n",
        "        grades = backward_propagation(parameters,catch,x,y)\n",
        "        parameters = update(parameters,grades,lr=0.01)\n",
        "        \n",
        "        if print_cost and i%100 == 0:\n",
        "            print(\"cost %i:%f\"%(i,cost))\n",
        "            \n",
        "    return parameters\n",
        "\n",
        "def predict_dec(x,parameters):\n",
        "    # Predict using forward propagation and a classification threshold of 0.5\n",
        "    catch,a2 = forward_propagation(x, parameters)\n",
        "    predictions = (a2>0.5)\n",
        "    return predictions"
      ],
      "metadata": {
        "id": "M8AuM3P7Sl9F"
      },
      "execution_count": null,
      "outputs": []
    }
  ]
}